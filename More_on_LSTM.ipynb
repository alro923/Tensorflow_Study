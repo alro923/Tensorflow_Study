{
  "nbformat": 4,
  "nbformat_minor": 0,
  "metadata": {
    "colab": {
      "name": "More on LSTM.ipynb",
      "provenance": [],
      "authorship_tag": "ABX9TyMgCfRIem2VfbwoTat7axzo",
      "include_colab_link": true
    },
    "kernelspec": {
      "name": "python3",
      "display_name": "Python 3"
    }
  },
  "cells": [
    {
      "cell_type": "markdown",
      "metadata": {
        "id": "view-in-github",
        "colab_type": "text"
      },
      "source": [
        "<a href=\"https://colab.research.google.com/github/alro923/Tensorflow_Study/blob/main/More_on_LSTM.ipynb\" target=\"_parent\"><img src=\"https://colab.research.google.com/assets/colab-badge.svg\" alt=\"Open In Colab\"/></a>"
      ]
    },
    {
      "cell_type": "code",
      "metadata": {
        "id": "cLB42FBTdrRN",
        "colab": {
          "base_uri": "https://localhost:8080/"
        },
        "outputId": "055edf72-4298-45bd-9153-ff0bf05f110d"
      },
      "source": [
        "import tensorflow as tf\n",
        "import numpy as np\n",
        "import matplotlib.pyplot as plt\n",
        "\n",
        "print(tf.__version__) # tensorflow 2.x"
      ],
      "execution_count": null,
      "outputs": [
        {
          "output_type": "stream",
          "text": [
            "2.3.0\n"
          ],
          "name": "stdout"
        }
      ]
    },
    {
      "cell_type": "code",
      "metadata": {
        "id": "jBNbzfPOhw26"
      },
      "source": [
        "def plot_series(time, series, format=\"-\", start=0, end=None):\n",
        "  plt.plot(time[start:end], series[start:end], format)\n",
        "  plt.xlabel(\"Time\")\n",
        "  plt.ylabel(\"Value\")\n",
        "  plt.grid(True)\n",
        "\n",
        "def trend(time, slope =0):\n",
        "  return slope * time\n",
        "\n",
        "def seasonal_pattern(season_time):\n",
        "  \"\"\"Just an arbitary pattern, you can change it if you wish\"\"\"\n",
        "  return np.where(season_time < 0.4,\n",
        "                  np.cos(season_time * 2 * np.pi),\n",
        "                  1/np.exp(3*season_time) )\n",
        "\n",
        "def seasonality(time, period, amplitude=1, phase=0):\n",
        "  \"\"\"Repeats the same pattern at each period\"\"\"\n",
        "  season_time = ((time + phase) % period) / period\n",
        "  return amplitude * seasonal_pattern(season_time)\n",
        "\n",
        "def noise(time, noise_level = 1, seed=None):\n",
        "  rnd = np.random.RandomState(seed)\n",
        "  return rnd.randn(len(time))*noise_level"
      ],
      "execution_count": null,
      "outputs": []
    },
    {
      "cell_type": "code",
      "metadata": {
        "id": "9FZrTbJ_hy6A"
      },
      "source": [
        "time = np.arange(4*365 + 1, dtype=\"float32\")\n",
        "baseline = 10\n",
        "series = trend(time, 0.1)\n",
        "amplitude = 40\n",
        "slope = 0.05\n",
        "noise_level = 5\n",
        "\n",
        "# Create the series\n",
        "series = baseline + trend(time, slope) + seasonality(time, period = 365, amplitude = amplitude)\n",
        "\n",
        "# Update with noise\n",
        "series += noise(time, noise_level, seed=42)"
      ],
      "execution_count": null,
      "outputs": []
    },
    {
      "cell_type": "code",
      "metadata": {
        "id": "J8BMVj2Ih1Gr"
      },
      "source": [
        "split_time = 1000\n",
        "time_train = time[:split_time]\n",
        "x_train = series[:split_time]\n",
        "time_valid = time[split_time:]\n",
        "x_valid = series[split_time:]\n",
        "\n",
        "window_size = 20\n",
        "batch_size = 32\n",
        "shuffle_buffer_size = 1000"
      ],
      "execution_count": null,
      "outputs": []
    },
    {
      "cell_type": "code",
      "metadata": {
        "id": "LQV5VhUuh3H6"
      },
      "source": [
        "def windowed_dataset(series, window_size, batch_size, shuffle_buffer):\n",
        "  dataset = tf.data.Dataset.from_tensor_slices(series)\n",
        "  dataset = dataset.window(window_size + 1, shift = 1, drop_remainder = True)\n",
        "  dataset = dataset.flat_map(lambda window: window.batch(window_size +1))\n",
        "  dataset = dataset.shuffle(shuffle_buffer).map(lambda window: (window[:-1], window[-1]))\n",
        "  dataset = dataset.batch(batch_size).prefetch(1)\n",
        "  return dataset\n"
      ],
      "execution_count": null,
      "outputs": []
    },
    {
      "cell_type": "code",
      "metadata": {
        "id": "VtDrVW1ph5F8"
      },
      "source": [
        "tf.keras.backend.clear_session()\n",
        "tf.random.set_seed(51)\n",
        "np.random.seed(51)\n",
        "\n",
        "train_set = windowed_dataset(x_train, window_size, batch_size=128, shuffle_buffer=shuffle_buffer_size)\n",
        "\n",
        "# LSTM\n",
        "model = tf.keras.models.Sequential([\n",
        "  tf.keras.layers.Lambda(lambda x : tf.expand_dims(x, axis = -1), input_shape = [None]),\n",
        "  tf.keras.layers.Bidirectional(tf.keras.layers.LSTM(32, return_sequences=True)),\n",
        "  tf.keras.layers.Bidirectional(tf.keras.layers.LSTM(32)),\n",
        "  tf.keras.layers.Dense(1),\n",
        "  tf.keras.layers.Lambda(lambda x: x*100.0)             \n",
        "])"
      ],
      "execution_count": null,
      "outputs": []
    },
    {
      "cell_type": "code",
      "metadata": {
        "id": "KRSiSdw3iPB4",
        "colab": {
          "base_uri": "https://localhost:8080/"
        },
        "outputId": "76842b8b-0141-4a65-d73a-20c23cd3eb79"
      },
      "source": [
        "lr_schedule = tf.keras.callbacks.LearningRateScheduler(lambda epoch: 1e-8 * 10 ** (epoch/20))\n",
        "optimizer = tf.keras.optimizers.SGD(lr = 1e-8, momentum = 0.9)\n",
        "model.compile(loss=tf.keras.losses.Huber(), optimizer=optimizer, metrics = [\"mae\"])\n",
        "history = model.fit(train_set, epochs=100, callbacks = [lr_schedule])"
      ],
      "execution_count": null,
      "outputs": [
        {
          "output_type": "stream",
          "text": [
            "Epoch 1/100\n",
            "8/8 [==============================] - 0s 32ms/step - loss: 21.6170 - mae: 22.1120\n",
            "Epoch 2/100\n",
            "8/8 [==============================] - 0s 27ms/step - loss: 21.5606 - mae: 22.0553\n",
            "Epoch 3/100\n",
            "8/8 [==============================] - 0s 33ms/step - loss: 21.4693 - mae: 21.9635\n",
            "Epoch 4/100\n",
            "8/8 [==============================] - 0s 30ms/step - loss: 21.3590 - mae: 21.8526\n",
            "Epoch 5/100\n",
            "8/8 [==============================] - 0s 32ms/step - loss: 21.2319 - mae: 21.7241\n",
            "Epoch 6/100\n",
            "8/8 [==============================] - 0s 35ms/step - loss: 21.0881 - mae: 21.5810\n",
            "Epoch 7/100\n",
            "8/8 [==============================] - 0s 33ms/step - loss: 20.9298 - mae: 21.4234\n",
            "Epoch 8/100\n",
            "8/8 [==============================] - 0s 33ms/step - loss: 20.7610 - mae: 21.2542\n",
            "Epoch 9/100\n",
            "8/8 [==============================] - 0s 31ms/step - loss: 20.5696 - mae: 21.0635\n",
            "Epoch 10/100\n",
            "8/8 [==============================] - 0s 33ms/step - loss: 20.3591 - mae: 20.8510\n",
            "Epoch 11/100\n",
            "8/8 [==============================] - 0s 33ms/step - loss: 20.1297 - mae: 20.6217\n",
            "Epoch 12/100\n",
            "8/8 [==============================] - 0s 32ms/step - loss: 19.8713 - mae: 20.3642\n",
            "Epoch 13/100\n",
            "8/8 [==============================] - 0s 32ms/step - loss: 19.5833 - mae: 20.0778\n",
            "Epoch 14/100\n",
            "8/8 [==============================] - 0s 32ms/step - loss: 19.2272 - mae: 19.7182\n",
            "Epoch 15/100\n",
            "8/8 [==============================] - 0s 31ms/step - loss: 18.7895 - mae: 19.2808\n",
            "Epoch 16/100\n",
            "8/8 [==============================] - 0s 33ms/step - loss: 18.1458 - mae: 18.6395\n",
            "Epoch 17/100\n",
            "8/8 [==============================] - 0s 32ms/step - loss: 17.5431 - mae: 18.0363\n",
            "Epoch 18/100\n",
            "8/8 [==============================] - 0s 31ms/step - loss: 17.3159 - mae: 17.8102\n",
            "Epoch 19/100\n",
            "8/8 [==============================] - 0s 31ms/step - loss: 17.0893 - mae: 17.5792\n",
            "Epoch 20/100\n",
            "8/8 [==============================] - 0s 32ms/step - loss: 16.8342 - mae: 17.3255\n",
            "Epoch 21/100\n",
            "8/8 [==============================] - 0s 32ms/step - loss: 16.6087 - mae: 17.1020\n",
            "Epoch 22/100\n",
            "8/8 [==============================] - 0s 32ms/step - loss: 16.3628 - mae: 16.8579\n",
            "Epoch 23/100\n",
            "8/8 [==============================] - 0s 32ms/step - loss: 16.1286 - mae: 16.6249\n",
            "Epoch 24/100\n",
            "8/8 [==============================] - 0s 32ms/step - loss: 15.8862 - mae: 16.3821\n",
            "Epoch 25/100\n",
            "8/8 [==============================] - 0s 33ms/step - loss: 15.6442 - mae: 16.1402\n",
            "Epoch 26/100\n",
            "8/8 [==============================] - 0s 31ms/step - loss: 15.3777 - mae: 15.8737\n",
            "Epoch 27/100\n",
            "8/8 [==============================] - 0s 35ms/step - loss: 15.1358 - mae: 15.6311\n",
            "Epoch 28/100\n",
            "8/8 [==============================] - 0s 33ms/step - loss: 14.8802 - mae: 15.3765\n",
            "Epoch 29/100\n",
            "8/8 [==============================] - 0s 35ms/step - loss: 14.6289 - mae: 15.1245\n",
            "Epoch 30/100\n",
            "8/8 [==============================] - 0s 33ms/step - loss: 14.4176 - mae: 14.9108\n",
            "Epoch 31/100\n",
            "8/8 [==============================] - 0s 28ms/step - loss: 14.1759 - mae: 14.6689\n",
            "Epoch 32/100\n",
            "8/8 [==============================] - 0s 32ms/step - loss: 13.9801 - mae: 14.4719\n",
            "Epoch 33/100\n",
            "8/8 [==============================] - 0s 31ms/step - loss: 13.8020 - mae: 14.2950\n",
            "Epoch 34/100\n",
            "8/8 [==============================] - 0s 31ms/step - loss: 13.6064 - mae: 14.1008\n",
            "Epoch 35/100\n",
            "8/8 [==============================] - 0s 31ms/step - loss: 13.4159 - mae: 13.9094\n",
            "Epoch 36/100\n",
            "8/8 [==============================] - 0s 35ms/step - loss: 13.2280 - mae: 13.7212\n",
            "Epoch 37/100\n",
            "8/8 [==============================] - 0s 33ms/step - loss: 13.0081 - mae: 13.4995\n",
            "Epoch 38/100\n",
            "8/8 [==============================] - 0s 34ms/step - loss: 12.7496 - mae: 13.2404\n",
            "Epoch 39/100\n",
            "8/8 [==============================] - 0s 32ms/step - loss: 12.5414 - mae: 13.0335\n",
            "Epoch 40/100\n",
            "8/8 [==============================] - 0s 31ms/step - loss: 12.3033 - mae: 12.7959\n",
            "Epoch 41/100\n",
            "8/8 [==============================] - 0s 35ms/step - loss: 12.0211 - mae: 12.5122\n",
            "Epoch 42/100\n",
            "8/8 [==============================] - 0s 34ms/step - loss: 11.7858 - mae: 12.2780\n",
            "Epoch 43/100\n",
            "8/8 [==============================] - 0s 31ms/step - loss: 12.1471 - mae: 12.6359\n",
            "Epoch 44/100\n",
            "8/8 [==============================] - 0s 31ms/step - loss: 12.2596 - mae: 12.7509\n",
            "Epoch 45/100\n",
            "8/8 [==============================] - 0s 34ms/step - loss: 11.4799 - mae: 11.9690\n",
            "Epoch 46/100\n",
            "8/8 [==============================] - 0s 33ms/step - loss: 11.3954 - mae: 11.8874\n",
            "Epoch 47/100\n",
            "8/8 [==============================] - 0s 33ms/step - loss: 11.3256 - mae: 11.8163\n",
            "Epoch 48/100\n",
            "8/8 [==============================] - 0s 31ms/step - loss: 10.5387 - mae: 11.0300\n",
            "Epoch 49/100\n",
            "8/8 [==============================] - 0s 34ms/step - loss: 10.0831 - mae: 10.5717\n",
            "Epoch 50/100\n",
            "8/8 [==============================] - 0s 33ms/step - loss: 9.6486 - mae: 10.1361\n",
            "Epoch 51/100\n",
            "8/8 [==============================] - 0s 32ms/step - loss: 9.1974 - mae: 9.6830\n",
            "Epoch 52/100\n",
            "8/8 [==============================] - 0s 36ms/step - loss: 8.8090 - mae: 9.2956\n",
            "Epoch 53/100\n",
            "8/8 [==============================] - 0s 36ms/step - loss: 8.4331 - mae: 8.9189\n",
            "Epoch 54/100\n",
            "8/8 [==============================] - 0s 31ms/step - loss: 8.0822 - mae: 8.5675\n",
            "Epoch 55/100\n",
            "8/8 [==============================] - 0s 35ms/step - loss: 7.7643 - mae: 8.2483\n",
            "Epoch 56/100\n",
            "8/8 [==============================] - 0s 33ms/step - loss: 7.4586 - mae: 7.9407\n",
            "Epoch 57/100\n",
            "8/8 [==============================] - 0s 32ms/step - loss: 7.1505 - mae: 7.6309\n",
            "Epoch 58/100\n",
            "8/8 [==============================] - 0s 34ms/step - loss: 6.9112 - mae: 7.3958\n",
            "Epoch 59/100\n",
            "8/8 [==============================] - 0s 35ms/step - loss: 6.6414 - mae: 7.1220\n",
            "Epoch 60/100\n",
            "8/8 [==============================] - 0s 34ms/step - loss: 6.4962 - mae: 6.9758\n",
            "Epoch 61/100\n",
            "8/8 [==============================] - 0s 30ms/step - loss: 6.4022 - mae: 6.8853\n",
            "Epoch 62/100\n",
            "8/8 [==============================] - 0s 32ms/step - loss: 6.1915 - mae: 6.6730\n",
            "Epoch 63/100\n",
            "8/8 [==============================] - 0s 32ms/step - loss: 5.9561 - mae: 6.4383\n",
            "Epoch 64/100\n",
            "8/8 [==============================] - 0s 33ms/step - loss: 5.8196 - mae: 6.2971\n",
            "Epoch 65/100\n",
            "8/8 [==============================] - 0s 33ms/step - loss: 5.6623 - mae: 6.1425\n",
            "Epoch 66/100\n",
            "8/8 [==============================] - 0s 31ms/step - loss: 5.5707 - mae: 6.0479\n",
            "Epoch 67/100\n",
            "8/8 [==============================] - 0s 33ms/step - loss: 5.3447 - mae: 5.8176\n",
            "Epoch 68/100\n",
            "8/8 [==============================] - 0s 35ms/step - loss: 5.3600 - mae: 5.8383\n",
            "Epoch 69/100\n",
            "8/8 [==============================] - 0s 27ms/step - loss: 5.2041 - mae: 5.6785\n",
            "Epoch 70/100\n",
            "8/8 [==============================] - 0s 34ms/step - loss: 5.0780 - mae: 5.5499\n",
            "Epoch 71/100\n",
            "8/8 [==============================] - 0s 31ms/step - loss: 5.0617 - mae: 5.5368\n",
            "Epoch 72/100\n",
            "8/8 [==============================] - 0s 34ms/step - loss: 5.4498 - mae: 5.9255\n",
            "Epoch 73/100\n",
            "8/8 [==============================] - 0s 36ms/step - loss: 5.4381 - mae: 5.9176\n",
            "Epoch 74/100\n",
            "8/8 [==============================] - 0s 33ms/step - loss: 5.2411 - mae: 5.7168\n",
            "Epoch 75/100\n",
            "8/8 [==============================] - 0s 32ms/step - loss: 4.8694 - mae: 5.3442\n",
            "Epoch 76/100\n",
            "8/8 [==============================] - 0s 31ms/step - loss: 5.0514 - mae: 5.5327\n",
            "Epoch 77/100\n",
            "8/8 [==============================] - 0s 31ms/step - loss: 5.9977 - mae: 6.4789\n",
            "Epoch 78/100\n",
            "8/8 [==============================] - 0s 33ms/step - loss: 5.0414 - mae: 5.5209\n",
            "Epoch 79/100\n",
            "8/8 [==============================] - 0s 34ms/step - loss: 5.3739 - mae: 5.8536\n",
            "Epoch 80/100\n",
            "8/8 [==============================] - 0s 28ms/step - loss: 6.6020 - mae: 7.0855\n",
            "Epoch 81/100\n",
            "8/8 [==============================] - 0s 33ms/step - loss: 6.0016 - mae: 6.4848\n",
            "Epoch 82/100\n",
            "8/8 [==============================] - 0s 30ms/step - loss: 8.6973 - mae: 9.1860\n",
            "Epoch 83/100\n",
            "8/8 [==============================] - 0s 31ms/step - loss: 11.8873 - mae: 12.3802\n",
            "Epoch 84/100\n",
            "8/8 [==============================] - 0s 35ms/step - loss: 12.3937 - mae: 12.8865\n",
            "Epoch 85/100\n",
            "8/8 [==============================] - 0s 33ms/step - loss: 9.6823 - mae: 10.1730\n",
            "Epoch 86/100\n",
            "8/8 [==============================] - 0s 36ms/step - loss: 7.5724 - mae: 8.0597\n",
            "Epoch 87/100\n",
            "8/8 [==============================] - 0s 32ms/step - loss: 9.2297 - mae: 9.7185\n",
            "Epoch 88/100\n",
            "8/8 [==============================] - 0s 25ms/step - loss: 13.3963 - mae: 13.8921\n",
            "Epoch 89/100\n",
            "8/8 [==============================] - 0s 30ms/step - loss: 9.7532 - mae: 10.2457\n",
            "Epoch 90/100\n",
            "8/8 [==============================] - 0s 33ms/step - loss: 13.0080 - mae: 13.5033\n",
            "Epoch 91/100\n",
            "8/8 [==============================] - 0s 34ms/step - loss: 11.2759 - mae: 11.7699\n",
            "Epoch 92/100\n",
            "8/8 [==============================] - 0s 32ms/step - loss: 12.8352 - mae: 13.3277\n",
            "Epoch 93/100\n",
            "8/8 [==============================] - 0s 32ms/step - loss: 14.2819 - mae: 14.7752\n",
            "Epoch 94/100\n",
            "8/8 [==============================] - 0s 33ms/step - loss: 10.1590 - mae: 10.6457\n",
            "Epoch 95/100\n",
            "8/8 [==============================] - 0s 36ms/step - loss: 9.2522 - mae: 9.7407\n",
            "Epoch 96/100\n",
            "8/8 [==============================] - 0s 34ms/step - loss: 11.7447 - mae: 12.2363\n",
            "Epoch 97/100\n",
            "8/8 [==============================] - 0s 33ms/step - loss: 19.0106 - mae: 19.5063\n",
            "Epoch 98/100\n",
            "8/8 [==============================] - 0s 33ms/step - loss: 14.5325 - mae: 15.0268\n",
            "Epoch 99/100\n",
            "8/8 [==============================] - 0s 34ms/step - loss: 11.2935 - mae: 11.7852\n",
            "Epoch 100/100\n",
            "8/8 [==============================] - 0s 35ms/step - loss: 9.7150 - mae: 10.2042\n"
          ],
          "name": "stdout"
        }
      ]
    },
    {
      "cell_type": "code",
      "metadata": {
        "id": "fvYaEuKJiZwI",
        "colab": {
          "base_uri": "https://localhost:8080/",
          "height": 290
        },
        "outputId": "d4b242a9-d3cf-49b1-93c7-629957f099fd"
      },
      "source": [
        "plt.semilogx(history.history[\"lr\"], history.history[\"loss\"])\n",
        "plt.axis([1e-8, 1e-4, 0, 30])"
      ],
      "execution_count": null,
      "outputs": [
        {
          "output_type": "execute_result",
          "data": {
            "text/plain": [
              "(1e-08, 0.0001, 0.0, 30.0)"
            ]
          },
          "metadata": {
            "tags": []
          },
          "execution_count": 20
        },
        {
          "output_type": "display_data",
          "data": {
            "image/png": "[encoded data removed]",
            "text/plain": [
              "<Figure size 432x288 with 1 Axes>"
            ]
          },
          "metadata": {
            "tags": [],
            "needs_background": "light"
          }
        }
      ]
    },
    {
      "cell_type": "code",
      "metadata": {
        "id": "JVMtQ02Wi7XJ"
      },
      "source": [
        "tf.keras.backend.clear_session()\n",
        "tf.random.set_seed(51)\n",
        "np.random.seed(51)\n",
        "\n",
        "dataset = windowed_dataset(x_train, window_size, batch_size=128, shuffle_buffer=shuffle_buffer_size)\n",
        "\n",
        "model = tf.keras.models.Sequential([\n",
        "  tf.keras.layers.Lambda(lambda x : tf.expand_dims(x, axis = -1), input_shape = [None]),\n",
        "  tf.keras.layers.Bidirectional(tf.keras.layers.LSTM(32, return_sequences=True)),\n",
        "  tf.keras.layers.Bidirectional(tf.keras.layers.LSTM(32)),\n",
        "  tf.keras.layers.Dense(1),\n",
        "  tf.keras.layers.Lambda(lambda x: x*100.0)             \n",
        "])\n",
        "\n",
        "model.compile(loss=\"mae\", optimizer = tf.keras.optimizers.SGD(lr=1e-6, momentum = 0.9))\n",
        "history = model.fit(dataset, epochs =500, verbose = 0)"
      ],
      "execution_count": null,
      "outputs": []
    },
    {
      "cell_type": "markdown",
      "metadata": {
        "id": "Gusywpq-0Fvl"
      },
      "source": [
        "tf.keras.layers.Bidirectional(tf.keras.layers.LSTM(32, return_sequences=True)),"
      ]
    },
    {
      "cell_type": "code",
      "metadata": {
        "id": "ITPJREiZjqXC"
      },
      "source": [
        "forecast = []\n",
        "for time in range(len(series) - window_size):\n",
        "  forecast.append(model.predict(series[time:time + window_size][np.newaxis]))\n",
        "\n",
        "forecast = forecast[split_time - window_size:]\n",
        "results = np.array(forecast)[:, 0, 0]"
      ],
      "execution_count": null,
      "outputs": []
    },
    {
      "cell_type": "code",
      "metadata": {
        "id": "Nlh8PvMhjtcf",
        "colab": {
          "base_uri": "https://localhost:8080/",
          "height": 388
        },
        "outputId": "f69ec1f8-bc94-4e49-86ce-c346a3485f70"
      },
      "source": [
        "plt.figure(figsize=(10, 6))\n",
        "\n",
        "plot_series(time_valid, x_valid)\n",
        "plot_series(time_valid, results)"
      ],
      "execution_count": null,
      "outputs": [
        {
          "output_type": "display_data",
          "data": {
            "image/png": "[encoded data removed]",
            "text/plain": [
              "<Figure size 720x432 with 1 Axes>"
            ]
          },
          "metadata": {
            "tags": [],
            "needs_background": "light"
          }
        }
      ]
    },
    {
      "cell_type": "code",
      "metadata": {
        "id": "6LM3dainjvkY",
        "colab": {
          "base_uri": "https://localhost:8080/"
        },
        "outputId": "5217ae6f-a6e5-4ff6-fdd1-b895d11c3208"
      },
      "source": [
        "tf.keras.metrics.mean_absolute_error(x_valid, results).numpy()"
      ],
      "execution_count": null,
      "outputs": [
        {
          "output_type": "execute_result",
          "data": {
            "text/plain": [
              "5.8643975"
            ]
          },
          "metadata": {
            "tags": []
          },
          "execution_count": 24
        }
      ]
    }
  ]
}