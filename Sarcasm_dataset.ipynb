{
  "nbformat": 4,
  "nbformat_minor": 0,
  "metadata": {
    "colab": {
      "name": "Sarcasm dataset",
      "provenance": [],
      "authorship_tag": "ABX9TyNaIiWwz23/MAObTfZvHB+F",
      "include_colab_link": true
    },
    "kernelspec": {
      "name": "python3",
      "display_name": "Python 3"
    }
  },
  "cells": [
    {
      "cell_type": "markdown",
      "metadata": {
        "id": "view-in-github",
        "colab_type": "text"
      },
      "source": [
        "<a href=\"https://colab.research.google.com/github/alro923/Tensorflow_Study/blob/main/Sarcasm_dataset.ipynb\" target=\"_parent\"><img src=\"https://colab.research.google.com/assets/colab-badge.svg\" alt=\"Open In Colab\"/></a>"
      ]
    },
    {
      "cell_type": "code",
      "metadata": {
        "id": "cFrF71NvLcb6"
      },
      "source": [
        "import json\n",
        "import tensorflow as tf\n",
        "\n",
        "from tensorflow.keras.preprocessing.text import Tokenizer\n",
        "from tensorflow.keras.preprocessing.sequence import pad_sequences\n",
        "\n",
        "\n",
        "vocab_size = 10000 \n",
        "embedding_dim = 16\n",
        "max_length = 32 \n",
        "trunc_type='post'\n",
        "padding_type = 'post'\n",
        "oov_tok = \"<OOV>\"\n",
        "training_size = 20000"
      ],
      "execution_count": null,
      "outputs": []
    },
    {
      "cell_type": "code",
      "metadata": {
        "id": "k4dQ8c5_M0Kj",
        "colab": {
          "base_uri": "https://localhost:8080/",
          "height": 210
        },
        "outputId": "f8a7f752-4f3b-4a17-a6e6-3d924eb69fa5"
      },
      "source": [
        "!wget --no-check-certificate \\\n",
        "    https://storage.googleapis.com/laurencemoroney-blog.appspot.com/sarcasm.json -O /tmp/sarcasm.json"
      ],
      "execution_count": null,
      "outputs": [
        {
          "output_type": "stream",
          "text": [
            "--2020-10-13 09:05:00--  https://storage.googleapis.com/laurencemoroney-blog.appspot.com/sarcasm.json\n",
            "Resolving storage.googleapis.com (storage.googleapis.com)... 173.194.216.128, 172.217.204.128, 172.217.203.128, ...\n",
            "Connecting to storage.googleapis.com (storage.googleapis.com)|173.194.216.128|:443... connected.\n",
            "HTTP request sent, awaiting response... 200 OK\n",
            "Length: 5643545 (5.4M) [application/json]\n",
            "Saving to: ‘/tmp/sarcasm.json’\n",
            "\n",
            "\r/tmp/sarcasm.json     0%[                    ]       0  --.-KB/s               \r/tmp/sarcasm.json   100%[===================>]   5.38M  --.-KB/s    in 0.02s   \n",
            "\n",
            "2020-10-13 09:05:00 (233 MB/s) - ‘/tmp/sarcasm.json’ saved [5643545/5643545]\n",
            "\n"
          ],
          "name": "stdout"
        }
      ]
    },
    {
      "cell_type": "code",
      "metadata": {
        "id": "BM6pqNlXNdmF"
      },
      "source": [
        "with open(\"/tmp/sarcasm.json\", \"r\") as f:\n",
        "  datastore = json.load(f)\n",
        "\n",
        "sentences = []\n",
        "labels = []\n",
        "\n",
        "for item in datastore:\n",
        "  sentences.append(item['headline'])\n",
        "  labels.append(item['is_sarcastic'])"
      ],
      "execution_count": null,
      "outputs": []
    },
    {
      "cell_type": "code",
      "metadata": {
        "id": "GdxBELPwOSCb",
        "colab": {
          "base_uri": "https://localhost:8080/",
          "height": 34
        },
        "outputId": "f66c6b34-0b8b-4d44-ba7c-2fe576e8b2c7"
      },
      "source": [
        "print(sentences[0])"
      ],
      "execution_count": null,
      "outputs": [
        {
          "output_type": "stream",
          "text": [
            "former versace store clerk sues over secret 'black code' for minority shoppers\n"
          ],
          "name": "stdout"
        }
      ]
    },
    {
      "cell_type": "code",
      "metadata": {
        "id": "S08AwoUSOUip",
        "colab": {
          "base_uri": "https://localhost:8080/",
          "height": 34
        },
        "outputId": "f8917b08-4d21-447c-9323-28c288c230de"
      },
      "source": [
        "print(labels[0])"
      ],
      "execution_count": null,
      "outputs": [
        {
          "output_type": "stream",
          "text": [
            "0\n"
          ],
          "name": "stdout"
        }
      ]
    },
    {
      "cell_type": "code",
      "metadata": {
        "id": "zDgmwNUnO54H"
      },
      "source": [
        "training_sentences = sentences[0:training_size] # 20000\n",
        "testing_sentences = sentences[training_size:] # 7000\n",
        "\n",
        "training_labels = labels[0:training_size] # 20000\n",
        "testing_labels = labels[training_size:] # 7000"
      ],
      "execution_count": null,
      "outputs": []
    },
    {
      "cell_type": "code",
      "metadata": {
        "id": "kq8mIKSUPacQ"
      },
      "source": [
        "tokenizer = Tokenizer(num_words=vocab_size, oov_token=oov_tok)\n",
        "tokenizer.fit_on_texts(training_sentences)\n",
        "\n",
        "word_index = tokenizer.word_index\n",
        "\n",
        "training_sequences = tokenizer.texts_to_sequences(training_sentences)\n",
        "training_padded = pad_sequences(training_sequences,maxlen=max_length,\n",
        "                                padding=padding_type, truncating=trunc_type)\n",
        "\n",
        "testing_sequences = tokenizer.texts_to_sequences(testing_sentences)\n",
        "testing_padded = pad_sequences(testing_sequences,maxlen=max_length,\n",
        "                               padding=padding_type, truncating=trunc_type)"
      ],
      "execution_count": null,
      "outputs": []
    },
    {
      "cell_type": "code",
      "metadata": {
        "id": "J40_Cu_aQEf6"
      },
      "source": [
        "model = tf.keras.Sequential([\n",
        "    tf.keras.layers.Embedding(vocab_size, embedding_dim, input_length=max_length),\n",
        "    tf.keras.layers.GlobalAveragePooling1D(),\n",
        "    tf.keras.layers.Dense(24, activation='relu'),\n",
        "    tf.keras.layers.Dense(1, activation='sigmoid')\n",
        "])"
      ],
      "execution_count": null,
      "outputs": []
    },
    {
      "cell_type": "code",
      "metadata": {
        "id": "yHuRXKc1QOXY",
        "colab": {
          "base_uri": "https://localhost:8080/",
          "height": 298
        },
        "outputId": "d92f89be-842a-4506-c741-4ed457ddd83d"
      },
      "source": [
        "model.compile(loss='binary_crossentropy',optimizer='adam',metrics=['accuracy'])\n",
        "model.summary()"
      ],
      "execution_count": null,
      "outputs": [
        {
          "output_type": "stream",
          "text": [
            "Model: \"sequential_2\"\n",
            "_________________________________________________________________\n",
            "Layer (type)                 Output Shape              Param #   \n",
            "=================================================================\n",
            "embedding_3 (Embedding)      (None, 32, 16)            160000    \n",
            "_________________________________________________________________\n",
            "global_average_pooling1d_2 ( (None, 16)                0         \n",
            "_________________________________________________________________\n",
            "dense_4 (Dense)              (None, 24)                408       \n",
            "_________________________________________________________________\n",
            "dense_5 (Dense)              (None, 1)                 25        \n",
            "=================================================================\n",
            "Total params: 160,433\n",
            "Trainable params: 160,433\n",
            "Non-trainable params: 0\n",
            "_________________________________________________________________\n"
          ],
          "name": "stdout"
        }
      ]
    },
    {
      "cell_type": "code",
      "metadata": {
        "id": "h8oVCdy_R-17",
        "colab": {
          "base_uri": "https://localhost:8080/",
          "height": 140
        },
        "outputId": "9f8a2181-145b-4df9-a479-07e05161bafb"
      },
      "source": [
        "testing_padded"
      ],
      "execution_count": null,
      "outputs": [
        {
          "output_type": "execute_result",
          "data": {
            "text/plain": [
              "array([[   1, 1100, 6663, ...,    0,    0,    0],\n",
              "       [ 202,    1,    8, ...,    0,    0,    0],\n",
              "       [  18,  380,  191, ...,    0,    0,    0],\n",
              "       ...,\n",
              "       [   1,    9,   67, ...,    0,    0,    0],\n",
              "       [1556,  374, 4114, ...,    0,    0,    0],\n",
              "       [   1, 1700,    6, ...,    0,    0,    0]], dtype=int32)"
            ]
          },
          "metadata": {
            "tags": []
          },
          "execution_count": 27
        }
      ]
    },
    {
      "cell_type": "code",
      "metadata": {
        "id": "P-GLvMVDSqog"
      },
      "source": [
        "import numpy as np\n",
        "training_padded = np.array(training_padded)\n",
        "training_labels = np.array(training_labels)\n",
        "testing_padded = np.array(testing_padded)\n",
        "testing_labels = np.array(testing_labels)"
      ],
      "execution_count": null,
      "outputs": []
    },
    {
      "cell_type": "code",
      "metadata": {
        "id": "CVgMPCcLQnII",
        "colab": {
          "base_uri": "https://localhost:8080/",
          "height": 1000
        },
        "outputId": "8ae3f466-1a59-4a06-aafe-d07cfbf1dfb8"
      },
      "source": [
        "history = model.fit(training_padded, training_labels, epochs=30,\n",
        "                    validation_data=(testing_padded, testing_labels), verbose=2)"
      ],
      "execution_count": null,
      "outputs": [
        {
          "output_type": "stream",
          "text": [
            "Epoch 1/30\n",
            "625/625 - 2s - loss: 0.5633 - accuracy: 0.7017 - val_loss: 0.3980 - val_accuracy: 0.8290\n",
            "Epoch 2/30\n",
            "625/625 - 2s - loss: 0.3121 - accuracy: 0.8732 - val_loss: 0.3484 - val_accuracy: 0.8504\n",
            "Epoch 3/30\n",
            "625/625 - 2s - loss: 0.2345 - accuracy: 0.9085 - val_loss: 0.3476 - val_accuracy: 0.8492\n",
            "Epoch 4/30\n",
            "625/625 - 2s - loss: 0.1888 - accuracy: 0.9294 - val_loss: 0.3605 - val_accuracy: 0.8529\n",
            "Epoch 5/30\n",
            "625/625 - 2s - loss: 0.1567 - accuracy: 0.9419 - val_loss: 0.3912 - val_accuracy: 0.8475\n",
            "Epoch 6/30\n",
            "625/625 - 2s - loss: 0.1329 - accuracy: 0.9531 - val_loss: 0.4264 - val_accuracy: 0.8448\n",
            "Epoch 7/30\n",
            "625/625 - 2s - loss: 0.1131 - accuracy: 0.9614 - val_loss: 0.4688 - val_accuracy: 0.8411\n",
            "Epoch 8/30\n",
            "625/625 - 2s - loss: 0.0975 - accuracy: 0.9668 - val_loss: 0.5079 - val_accuracy: 0.8372\n",
            "Epoch 9/30\n",
            "625/625 - 2s - loss: 0.0852 - accuracy: 0.9720 - val_loss: 0.5517 - val_accuracy: 0.8359\n",
            "Epoch 10/30\n",
            "625/625 - 2s - loss: 0.0738 - accuracy: 0.9765 - val_loss: 0.5988 - val_accuracy: 0.8286\n",
            "Epoch 11/30\n",
            "625/625 - 2s - loss: 0.0634 - accuracy: 0.9801 - val_loss: 0.6536 - val_accuracy: 0.8274\n",
            "Epoch 12/30\n",
            "625/625 - 2s - loss: 0.0570 - accuracy: 0.9817 - val_loss: 0.7206 - val_accuracy: 0.8247\n",
            "Epoch 13/30\n",
            "625/625 - 2s - loss: 0.0497 - accuracy: 0.9844 - val_loss: 0.7699 - val_accuracy: 0.8202\n",
            "Epoch 14/30\n",
            "625/625 - 2s - loss: 0.0426 - accuracy: 0.9883 - val_loss: 0.8297 - val_accuracy: 0.8192\n",
            "Epoch 15/30\n",
            "625/625 - 2s - loss: 0.0381 - accuracy: 0.9895 - val_loss: 0.8996 - val_accuracy: 0.8143\n",
            "Epoch 16/30\n",
            "625/625 - 2s - loss: 0.0342 - accuracy: 0.9900 - val_loss: 0.9592 - val_accuracy: 0.8147\n",
            "Epoch 17/30\n",
            "625/625 - 2s - loss: 0.0303 - accuracy: 0.9912 - val_loss: 1.0072 - val_accuracy: 0.8131\n",
            "Epoch 18/30\n",
            "625/625 - 2s - loss: 0.0252 - accuracy: 0.9938 - val_loss: 1.0522 - val_accuracy: 0.8088\n",
            "Epoch 19/30\n",
            "625/625 - 2s - loss: 0.0232 - accuracy: 0.9935 - val_loss: 1.1702 - val_accuracy: 0.8094\n",
            "Epoch 20/30\n",
            "625/625 - 2s - loss: 0.0201 - accuracy: 0.9942 - val_loss: 1.1745 - val_accuracy: 0.8106\n",
            "Epoch 21/30\n",
            "625/625 - 2s - loss: 0.0186 - accuracy: 0.9951 - val_loss: 1.2458 - val_accuracy: 0.8076\n",
            "Epoch 22/30\n",
            "625/625 - 2s - loss: 0.0165 - accuracy: 0.9958 - val_loss: 1.3113 - val_accuracy: 0.8083\n",
            "Epoch 23/30\n",
            "625/625 - 2s - loss: 0.0153 - accuracy: 0.9961 - val_loss: 1.3558 - val_accuracy: 0.8079\n",
            "Epoch 24/30\n",
            "625/625 - 2s - loss: 0.0135 - accuracy: 0.9967 - val_loss: 1.4155 - val_accuracy: 0.8083\n",
            "Epoch 25/30\n",
            "625/625 - 2s - loss: 0.0123 - accuracy: 0.9967 - val_loss: 1.4624 - val_accuracy: 0.8044\n",
            "Epoch 26/30\n",
            "625/625 - 2s - loss: 0.0123 - accuracy: 0.9964 - val_loss: 1.5806 - val_accuracy: 0.8050\n",
            "Epoch 27/30\n",
            "625/625 - 2s - loss: 0.0097 - accuracy: 0.9973 - val_loss: 1.6093 - val_accuracy: 0.8034\n",
            "Epoch 28/30\n",
            "625/625 - 2s - loss: 0.0087 - accuracy: 0.9980 - val_loss: 1.6655 - val_accuracy: 0.8032\n",
            "Epoch 29/30\n",
            "625/625 - 2s - loss: 0.0083 - accuracy: 0.9980 - val_loss: 1.7551 - val_accuracy: 0.8013\n",
            "Epoch 30/30\n",
            "625/625 - 2s - loss: 0.0082 - accuracy: 0.9977 - val_loss: 1.7853 - val_accuracy: 0.8015\n"
          ],
          "name": "stdout"
        }
      ]
    },
    {
      "cell_type": "code",
      "metadata": {
        "id": "W_v3NIJWTRuM",
        "colab": {
          "base_uri": "https://localhost:8080/",
          "height": 541
        },
        "outputId": "2265ea51-9079-4ced-c5f6-5930cda38ef0"
      },
      "source": [
        "import matplotlib.pyplot as plt\n",
        "\n",
        "def plot_graphs(history, string):\n",
        "  plt.plot(history.history[string])\n",
        "  plt.plot(history.history['val_'+string])\n",
        "  plt.xlabel(\"Epochs\")\n",
        "  plt.ylabel(string)\n",
        "  plt.legend([string, 'val_'+string])\n",
        "  plt.show()\n",
        "  \n",
        "plot_graphs(history, 'accuracy')\n",
        "plot_graphs(history, 'loss')"
      ],
      "execution_count": null,
      "outputs": [
        {
          "output_type": "display_data",
          "data": {
            "image/png": "[encoded data removed]",
            "text/plain": [
              "<Figure size 432x288 with 1 Axes>"
            ]
          },
          "metadata": {
            "tags": [],
            "needs_background": "light"
          }
        },
        {
          "output_type": "display_data",
          "data": {
            "image/png": "[encoded data removed]",
            "text/plain": [
              "<Figure size 432x288 with 1 Axes>"
            ]
          },
          "metadata": {
            "tags": [],
            "needs_background": "light"
          }
        }
      ]
    }
  ]
}